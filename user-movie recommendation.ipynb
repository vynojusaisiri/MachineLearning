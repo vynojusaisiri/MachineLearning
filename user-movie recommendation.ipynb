{
 "cells": [
  {
   "cell_type": "code",
   "execution_count": 1,
   "id": "c69ac871",
   "metadata": {},
   "outputs": [],
   "source": [
    "import pandas as pd\n",
    "import numpy as np"
   ]
  },
  {
   "cell_type": "code",
   "execution_count": null,
   "id": "c4dadca1",
   "metadata": {},
   "outputs": [],
   "source": [
    "# USER MOVIE RECOMMENDATION SYSTEM\n",
    "#1.import libraries and dataset\n",
    "#2.identify total n of users and movies\n",
    "#3.split data into training and testing sets\n",
    "#4.populate train test metrics with random ratings\n",
    "#5.create cosine similarity metrics for users n movies\n",
    "#perform predictions"
   ]
  },
  {
   "cell_type": "code",
   "execution_count": 10,
   "id": "f205db7b",
   "metadata": {},
   "outputs": [
    {
     "data": {
      "text/html": [
       "<div>\n",
       "<style scoped>\n",
       "    .dataframe tbody tr th:only-of-type {\n",
       "        vertical-align: middle;\n",
       "    }\n",
       "\n",
       "    .dataframe tbody tr th {\n",
       "        vertical-align: top;\n",
       "    }\n",
       "\n",
       "    .dataframe thead th {\n",
       "        text-align: right;\n",
       "    }\n",
       "</style>\n",
       "<table border=\"1\" class=\"dataframe\">\n",
       "  <thead>\n",
       "    <tr style=\"text-align: right;\">\n",
       "      <th></th>\n",
       "      <th>user_id</th>\n",
       "      <th>movie_id</th>\n",
       "      <th>rating</th>\n",
       "      <th>timestamp</th>\n",
       "    </tr>\n",
       "  </thead>\n",
       "  <tbody>\n",
       "    <tr>\n",
       "      <th>0</th>\n",
       "      <td>186</td>\n",
       "      <td>302</td>\n",
       "      <td>3</td>\n",
       "      <td>891717742</td>\n",
       "    </tr>\n",
       "    <tr>\n",
       "      <th>1</th>\n",
       "      <td>22</td>\n",
       "      <td>377</td>\n",
       "      <td>1</td>\n",
       "      <td>878887116</td>\n",
       "    </tr>\n",
       "    <tr>\n",
       "      <th>2</th>\n",
       "      <td>244</td>\n",
       "      <td>51</td>\n",
       "      <td>2</td>\n",
       "      <td>880606923</td>\n",
       "    </tr>\n",
       "    <tr>\n",
       "      <th>3</th>\n",
       "      <td>166</td>\n",
       "      <td>346</td>\n",
       "      <td>1</td>\n",
       "      <td>886397596</td>\n",
       "    </tr>\n",
       "    <tr>\n",
       "      <th>4</th>\n",
       "      <td>298</td>\n",
       "      <td>474</td>\n",
       "      <td>4</td>\n",
       "      <td>884182806</td>\n",
       "    </tr>\n",
       "    <tr>\n",
       "      <th>...</th>\n",
       "      <td>...</td>\n",
       "      <td>...</td>\n",
       "      <td>...</td>\n",
       "      <td>...</td>\n",
       "    </tr>\n",
       "    <tr>\n",
       "      <th>99994</th>\n",
       "      <td>880</td>\n",
       "      <td>476</td>\n",
       "      <td>3</td>\n",
       "      <td>880175444</td>\n",
       "    </tr>\n",
       "    <tr>\n",
       "      <th>99995</th>\n",
       "      <td>716</td>\n",
       "      <td>204</td>\n",
       "      <td>5</td>\n",
       "      <td>879795543</td>\n",
       "    </tr>\n",
       "    <tr>\n",
       "      <th>99996</th>\n",
       "      <td>276</td>\n",
       "      <td>1090</td>\n",
       "      <td>1</td>\n",
       "      <td>874795795</td>\n",
       "    </tr>\n",
       "    <tr>\n",
       "      <th>99997</th>\n",
       "      <td>13</td>\n",
       "      <td>225</td>\n",
       "      <td>2</td>\n",
       "      <td>882399156</td>\n",
       "    </tr>\n",
       "    <tr>\n",
       "      <th>99998</th>\n",
       "      <td>12</td>\n",
       "      <td>203</td>\n",
       "      <td>3</td>\n",
       "      <td>879959583</td>\n",
       "    </tr>\n",
       "  </tbody>\n",
       "</table>\n",
       "<p>99999 rows × 4 columns</p>\n",
       "</div>"
      ],
      "text/plain": [
       "       user_id  movie_id  rating  timestamp\n",
       "0          186       302       3  891717742\n",
       "1           22       377       1  878887116\n",
       "2          244        51       2  880606923\n",
       "3          166       346       1  886397596\n",
       "4          298       474       4  884182806\n",
       "...        ...       ...     ...        ...\n",
       "99994      880       476       3  880175444\n",
       "99995      716       204       5  879795543\n",
       "99996      276      1090       1  874795795\n",
       "99997       13       225       2  882399156\n",
       "99998       12       203       3  879959583\n",
       "\n",
       "[99999 rows x 4 columns]"
      ]
     },
     "execution_count": 10,
     "metadata": {},
     "output_type": "execute_result"
    }
   ],
   "source": [
    "df=pd.read_csv(\"C:\\\\Users\\\\91630\\\\OneDrive\\\\Desktop\\\\jupyter\\\\Recommend.csv\")\n",
    "df"
   ]
  },
  {
   "cell_type": "code",
   "execution_count": null,
   "id": "c5f46640",
   "metadata": {},
   "outputs": [],
   "source": [
    "#calculate no of users and movies since we are developing user recommendation model"
   ]
  },
  {
   "cell_type": "code",
   "execution_count": 12,
   "id": "5a6f0171",
   "metadata": {},
   "outputs": [],
   "source": [
    "from sklearn.model_selection import train_test_split\n",
    "n_users=df.user_id.unique().shape[0]\n",
    "n_movies=df.movie_id.unique().shape[0]"
   ]
  },
  {
   "cell_type": "code",
   "execution_count": 13,
   "id": "abcc8cb8",
   "metadata": {},
   "outputs": [],
   "source": [
    "#split data into training and testing"
   ]
  },
  {
   "cell_type": "code",
   "execution_count": 14,
   "id": "8194dab3",
   "metadata": {},
   "outputs": [],
   "source": [
    "train_data,test_data=train_test_split(df,test_size=0.25)"
   ]
  },
  {
   "cell_type": "code",
   "execution_count": 20,
   "id": "880293c7",
   "metadata": {},
   "outputs": [
    {
     "data": {
      "text/plain": [
       "array([[5., 0., 0., ..., 0., 0., 0.],\n",
       "       [0., 0., 0., ..., 0., 0., 0.],\n",
       "       [0., 0., 0., ..., 0., 0., 0.],\n",
       "       ...,\n",
       "       [5., 0., 0., ..., 0., 0., 0.],\n",
       "       [0., 0., 0., ..., 0., 0., 0.],\n",
       "       [0., 5., 0., ..., 0., 0., 0.]])"
      ]
     },
     "execution_count": 20,
     "metadata": {},
     "output_type": "execute_result"
    }
   ],
   "source": [
    "#create zero matrix\n",
    "train_data_matrix=np.zeros((n_users,n_movies))\n",
    "#populate train and test matrix\n",
    "for i in train_data.itertuples():\n",
    "    train_data_matrix[i[1]-1,i[2]-1]=i[3]\n",
    "train_data_matrix"
   ]
  },
  {
   "cell_type": "code",
   "execution_count": 21,
   "id": "ea834ba3",
   "metadata": {},
   "outputs": [
    {
     "data": {
      "text/plain": [
       "array([[0., 3., 4., ..., 0., 0., 0.],\n",
       "       [4., 0., 0., ..., 0., 0., 0.],\n",
       "       [0., 0., 0., ..., 0., 0., 0.],\n",
       "       ...,\n",
       "       [0., 0., 0., ..., 0., 0., 0.],\n",
       "       [0., 0., 0., ..., 0., 0., 0.],\n",
       "       [0., 0., 0., ..., 0., 0., 0.]])"
      ]
     },
     "execution_count": 21,
     "metadata": {},
     "output_type": "execute_result"
    }
   ],
   "source": [
    "#create zero matrix\n",
    "test_data_matrix=np.zeros((n_users,n_movies))\n",
    "#populate train and test matrix\n",
    "for i in test_data.itertuples():\n",
    "    test_data_matrix[i[1]-1,i[2]-1]=i[3]\n",
    "test_data_matrix"
   ]
  },
  {
   "cell_type": "code",
   "execution_count": 22,
   "id": "07ad6584",
   "metadata": {},
   "outputs": [],
   "source": [
    "#create cosine similarity measures"
   ]
  },
  {
   "cell_type": "code",
   "execution_count": 25,
   "id": "78d4bee8",
   "metadata": {},
   "outputs": [
    {
     "data": {
      "text/plain": [
       "array([[ 1.62292648,  0.57814032,  0.50475736, ...,  0.31535571,\n",
       "         0.31533833,  0.31287441],\n",
       "       [ 1.36375709,  0.26270742,  0.14324895, ..., -0.06097007,\n",
       "        -0.05972979, -0.06296172],\n",
       "       [ 1.36138101,  0.22157515,  0.11166252, ..., -0.10019551,\n",
       "        -0.09833117, -0.10157262],\n",
       "       ...,\n",
       "       [ 1.23912599,  0.1909717 ,  0.07906291, ..., -0.1206851 ,\n",
       "        -0.11975903, -0.12289945],\n",
       "       [ 1.39838102,  0.29243414,  0.20719019, ..., -0.00253859,\n",
       "        -0.00190004, -0.00456945],\n",
       "       [ 1.43393692,  0.35597716,  0.28968655, ...,  0.10429599,\n",
       "         0.10433733,  0.10180754]])"
      ]
     },
     "execution_count": 25,
     "metadata": {},
     "output_type": "execute_result"
    }
   ],
   "source": [
    "from sklearn.metrics import pairwise_distances\n",
    "user_simi=pairwise_distances(train_data_matrix,metric=\"cosine\")\n",
    "movie_simi=pairwise_distances(train_data_matrix.T,metric=\"cosine\")\n",
    "mean_user_rating=train_data_matrix.mean(axis=1)[:,np.newaxis]\n",
    "ratings_diff=train_data_matrix- mean_user_rating\n",
    "user_pred= mean_user_rating+ user_simi.dot(ratings_diff)/np.array([np.abs(user_simi).sum(axis=1)]).T\n",
    "user_pred"
   ]
  },
  {
   "cell_type": "code",
   "execution_count": null,
   "id": "082cd2f2",
   "metadata": {},
   "outputs": [],
   "source": []
  }
 ],
 "metadata": {
  "kernelspec": {
   "display_name": "Python 3",
   "language": "python",
   "name": "python3"
  },
  "language_info": {
   "codemirror_mode": {
    "name": "ipython",
    "version": 3
   },
   "file_extension": ".py",
   "mimetype": "text/x-python",
   "name": "python",
   "nbconvert_exporter": "python",
   "pygments_lexer": "ipython3",
   "version": "3.8.8"
  }
 },
 "nbformat": 4,
 "nbformat_minor": 5
}
